{
 "cells": [
  {
   "cell_type": "code",
   "execution_count": 1,
   "metadata": {},
   "outputs": [],
   "source": [
    "import sqlite3\n",
    "import pandas as pd\n",
    "import numpy as np"
   ]
  },
  {
   "cell_type": "code",
   "execution_count": 21,
   "metadata": {},
   "outputs": [
    {
     "name": "stdout",
     "output_type": "stream",
     "text": [
      "Loading data from the database...\n"
     ]
    }
   ],
   "source": [
    "# Connect to the SQLite database\n",
    "conn = sqlite3.connect(\"C:/Users/erknud3/fpl-optimization/model/FBRef_DB/master.db\")\n",
    "\n",
    "print(\"Loading data from the database...\")\n",
    "\n",
    "# Load data from Match table\n",
    "fpl_master = pd.read_sql_query(\n",
    "    \"\"\"\n",
    "    select *\n",
    "    from fpl_master_24_25\n",
    "    \"\"\",\n",
    "    conn,\n",
    ")\n",
    "\n",
    "# Close the connection\n",
    "conn.close()"
   ]
  },
  {
   "cell_type": "code",
   "execution_count": 22,
   "metadata": {},
   "outputs": [],
   "source": [
    "import unidecode\n",
    "\n",
    "def clean_player_name(player_name):\n",
    "    # Convert to lowercase\n",
    "    player_name = player_name.lower()\n",
    "    # Remove accents and special characters\n",
    "    player_name = unidecode.unidecode(player_name)\n",
    "    # Replace spaces with hyphens\n",
    "    player_name = player_name.replace(\" \", \"-\")\n",
    "    return player_name"
   ]
  },
  {
   "cell_type": "code",
   "execution_count": 23,
   "metadata": {},
   "outputs": [],
   "source": [
    "# Drop duplicates to ensure one URL per player based on the 'Player' and 'transfermarkt' columns\n",
    "unique_players = fpl_master[['fbref_name', 'transfermarkt']].drop_duplicates()\n",
    "\n",
    "# Generate the URLs for unique players\n",
    "transfermarkt_url = [\n",
    "    f\"https://www.transfermarkt.com/{clean_player_name(player)}/profil/spieler/{int(transfermarkt_id)}\"\n",
    "    for player, transfermarkt_id in zip(unique_players['fbref_name'], unique_players['transfermarkt'])\n",
    "]"
   ]
  },
  {
   "cell_type": "code",
   "execution_count": 24,
   "metadata": {},
   "outputs": [
    {
     "data": {
      "text/plain": [
       "594"
      ]
     },
     "execution_count": 24,
     "metadata": {},
     "output_type": "execute_result"
    }
   ],
   "source": [
    "len(transfermarkt_url)"
   ]
  },
  {
   "cell_type": "code",
   "execution_count": 84,
   "metadata": {},
   "outputs": [
    {
     "name": "stdout",
     "output_type": "stream",
     "text": [
      "[1/3] Successfully extracted joined date for Marcus Rashford: None\n",
      "[2/3] Successfully extracted joined date for Jadon Sancho: None\n",
      "[3/3] Successfully extracted joined date for Joško Gvardiol: None\n",
      "        fbref_name  transfermarkt joined_date\n",
      "0  Marcus Rashford         258923        None\n",
      "1     Jadon Sancho         401173        None\n",
      "2   Joško Gvardiol         475959        None\n"
     ]
    }
   ],
   "source": [
    "import requests\n",
    "from bs4 import BeautifulSoup\n",
    "import re\n",
    "import pandas as pd\n",
    "\n",
    "# Define headers for the request\n",
    "headers = {\n",
    "    \"User-Agent\": \"Mozilla/5.0 (Windows NT 10.0; Win64; x64) AppleWebKit/537.36 (KHTML, like Gecko) Chrome/128.0.0.0 Safari/537.36 Edg/128.0.0.0\"\n",
    "}\n",
    "\n",
    "# Create an empty list to store the results\n",
    "data = []\n",
    "\n",
    "# Loop through each player URL to extract the joined date\n",
    "for index, (player, transfermarkt_id) in enumerate(zip(unique_players['fbref_name'], unique_players['transfermarkt']), start=1):\n",
    "    # Construct the URL for each player\n",
    "    url = f\"https://www.transfermarkt.com/{clean_player_name(player)}/profil/spieler/{int(transfermarkt_id)}\"\n",
    "    \n",
    "    try:\n",
    "        # Send the request\n",
    "        response = requests.get(url, headers=headers)\n",
    "        \n",
    "        # Check if the request was successful\n",
    "        if response.status_code == 200:\n",
    "            # Parse the HTML using BeautifulSoup\n",
    "            soup = BeautifulSoup(response.text, 'html.parser')\n",
    "            \n",
    "            # Extract the joined date using regex\n",
    "            joined_date = re.search(r\"Joined:.*__content\\\">(.*?)</span>\", str(soup))\n",
    "            \n",
    "            # If a match is found, clean the date format\n",
    "            if joined_date:\n",
    "                joined_date = joined_date.group(1)\n",
    "                # Convert to 'YYYY-MM-DD' format\n",
    "                joined_date = pd.to_datetime(joined_date, format='%b %d, %Y').strftime('%Y-%m-%d')\n",
    "            else:\n",
    "                joined_date = None\n",
    "            \n",
    "            # Append the data to the list (player name, transfermarkt id, joined date)\n",
    "            data.append([player, transfermarkt_id, joined_date])\n",
    "            \n",
    "            # Print progress for successful extraction\n",
    "            print(f\"[{index}/{len(unique_players)}] Successfully extracted joined date for {player}: {joined_date}\")\n",
    "        \n",
    "        else:\n",
    "            print(f\"[{index}/{len(unique_players)}] Failed to retrieve data for {player}. Status code: {response.status_code}\")\n",
    "    \n",
    "    except Exception as e:\n",
    "        print(f\"[{index}/{len(unique_players)}] Error occurred for {player}: {e}\")\n",
    "\n",
    "# Convert the collected data into a dataframe\n",
    "new_joined_date_df = pd.DataFrame(data, columns=['fbref_name', 'transfermarkt', 'joined_date'])\n",
    "\n",
    "# Display the dataframe\n",
    "print(new_joined_date_df)"
   ]
  },
  {
   "cell_type": "code",
   "execution_count": 78,
   "metadata": {},
   "outputs": [],
   "source": [
    "joined_date_df = pd.concat([joined_date_df, new_joined_date_df])\n",
    "joined_date_df = joined_date_df.drop_duplicates(subset=['fbref_name'], keep='last')"
   ]
  },
  {
   "cell_type": "code",
   "execution_count": 79,
   "metadata": {},
   "outputs": [
    {
     "name": "stdout",
     "output_type": "stream",
     "text": [
      "Table 'player_joined_date' found. Truncating table...\n",
      "Data inserted into table 'player_joined_date'.\n"
     ]
    }
   ],
   "source": [
    "# Connect to the SQLite database\n",
    "conn = sqlite3.connect(\"C:/Users/erknud3/fpl-optimization/model/FBRef_DB/master.db\")\n",
    "cursor = conn.cursor()\n",
    "\n",
    "# Table name\n",
    "player_joined_date_table = \"player_joined_date\"\n",
    "\n",
    "# Function to handle table creation and data insertion\n",
    "def create_or_replace_table(table_name, dataframe, cursor, conn):\n",
    "    # Check if the table exists\n",
    "    cursor.execute(\n",
    "        f\"SELECT name FROM sqlite_master WHERE type='table' AND name='{table_name}';\"\n",
    "    )\n",
    "    table_exists = cursor.fetchone()\n",
    "\n",
    "    if table_exists:\n",
    "        # If the table exists, truncate (delete all rows)\n",
    "        cursor.execute(f\"DELETE FROM {table_name};\")\n",
    "        print(f\"Table '{table_name}' found. Truncating table...\")\n",
    "\n",
    "        # Insert data into the table\n",
    "        dataframe.to_sql(table_name, conn, if_exists=\"append\", index=False)\n",
    "        print(f\"Data inserted into table '{table_name}'.\")\n",
    "    else:\n",
    "        # If the table does not exist, create it and insert data\n",
    "        print(\n",
    "            f\"Table '{table_name}' not found. Creating table and inserting data...\"\n",
    "        )\n",
    "        dataframe.to_sql(table_name, conn, if_exists=\"replace\", index=False)\n",
    "        print(f\"Table '{table_name}' created and data inserted.\")\n",
    "\n",
    "# Create or replace tables for player_baselines and player_minutes\n",
    "create_or_replace_table(player_joined_date_table, joined_date_df, cursor, conn)\n",
    "\n",
    "# Commit the transaction and close the connection\n",
    "conn.commit()\n",
    "conn.close()"
   ]
  },
  {
   "cell_type": "code",
   "execution_count": 80,
   "metadata": {},
   "outputs": [],
   "source": [
    "not_found = joined_date_df[joined_date_df['joined_date'].isnull()]"
   ]
  },
  {
   "cell_type": "code",
   "execution_count": 81,
   "metadata": {},
   "outputs": [],
   "source": [
    "fpl_master_missing = fpl_master.merge(not_found[['fbref_name', 'joined_date']], on='fbref_name', how='inner')"
   ]
  },
  {
   "cell_type": "code",
   "execution_count": 82,
   "metadata": {},
   "outputs": [],
   "source": [
    "# Drop duplicates to ensure one URL per player based on the 'Player' and 'transfermarkt' columns\n",
    "unique_players = fpl_master_missing[['fbref_name', 'transfermarkt']].drop_duplicates()\n",
    "\n",
    "# Generate the URLs for unique players\n",
    "transfermarkt_url = [\n",
    "    f\"https://www.transfermarkt.com/{clean_player_name(player)}/profil/spieler/{int(transfermarkt_id)}\"\n",
    "    for player, transfermarkt_id in zip(unique_players['fbref_name'], unique_players['transfermarkt'])\n",
    "]"
   ]
  },
  {
   "cell_type": "code",
   "execution_count": 83,
   "metadata": {},
   "outputs": [
    {
     "data": {
      "text/plain": [
       "['https://www.transfermarkt.com/marcus-rashford/profil/spieler/258923',\n",
       " 'https://www.transfermarkt.com/jadon-sancho/profil/spieler/401173',\n",
       " 'https://www.transfermarkt.com/josko-gvardiol/profil/spieler/475959']"
      ]
     },
     "execution_count": 83,
     "metadata": {},
     "output_type": "execute_result"
    }
   ],
   "source": [
    "transfermarkt_url"
   ]
  },
  {
   "cell_type": "code",
   "execution_count": 87,
   "metadata": {},
   "outputs": [
    {
     "name": "stdout",
     "output_type": "stream",
     "text": [
      "Updates completed successfully!\n"
     ]
    }
   ],
   "source": [
    "import sqlite3\n",
    "\n",
    "# Connect to the SQLite database\n",
    "conn = sqlite3.connect(\"C:/Users/erknud3/fpl-optimization/model/FBRef_DB/master.db\")\n",
    "cursor = conn.cursor()\n",
    "\n",
    "# Define the updates for each transfermarkt ID\n",
    "updates = [\n",
    "    ('2016-01-01', 258923),\n",
    "    ('2024-08-30', 401173),\n",
    "    ('2023-08-05', 475959)\n",
    "]\n",
    "\n",
    "# Perform the updates\n",
    "for joined_date, transfermarkt_id in updates:\n",
    "    cursor.execute(\"\"\"\n",
    "        UPDATE player_joined_date \n",
    "        SET joined_date = ? \n",
    "        WHERE transfermarkt = ?;\n",
    "    \"\"\", (joined_date, transfermarkt_id))\n",
    "\n",
    "# Commit the changes and close the connection\n",
    "conn.commit()\n",
    "conn.close()\n",
    "\n",
    "print(\"Updates completed successfully!\")"
   ]
  },
  {
   "cell_type": "code",
   "execution_count": null,
   "metadata": {},
   "outputs": [],
   "source": []
  }
 ],
 "metadata": {
  "kernelspec": {
   "display_name": "fpl",
   "language": "python",
   "name": "python3"
  },
  "language_info": {
   "codemirror_mode": {
    "name": "ipython",
    "version": 3
   },
   "file_extension": ".py",
   "mimetype": "text/x-python",
   "name": "python",
   "nbconvert_exporter": "python",
   "pygments_lexer": "ipython3",
   "version": "3.12.3"
  }
 },
 "nbformat": 4,
 "nbformat_minor": 2
}
