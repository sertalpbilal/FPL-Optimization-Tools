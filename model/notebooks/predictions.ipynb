{
 "cells": [
  {
   "cell_type": "code",
   "execution_count": 1,
   "metadata": {},
   "outputs": [],
   "source": [
    "import pandas as pd"
   ]
  },
  {
   "cell_type": "code",
   "execution_count": 2,
   "metadata": {},
   "outputs": [],
   "source": [
    "newest_gw = 3"
   ]
  },
  {
   "cell_type": "code",
   "execution_count": 13,
   "metadata": {},
   "outputs": [],
   "source": [
    "fpl_players_new_season = pd.read_csv(f\"C:/Users/erknud3/fpl-optimization/model/data/New_Season_Data/fpl_players_new_season_gw{newest_gw}.csv\")\n",
    "\n",
    "teams_pred_npxG = pd.read_csv(f\"C:/Users/erknud3/fpl-optimization/model/data/Prediction_Data/teams_pred_npxG_gw{newest_gw}.csv\")\n",
    "teams_pred_npxGC = pd.read_csv(f\"C:/Users/erknud3/fpl-optimization/model/data/Prediction_Data/teams_pred_npxGC_gw{newest_gw}.csv\")\n",
    "\n",
    "gc_probs = pd.read_csv(f\"C:/Users/erknud3/fpl-optimization/model/data/Prediction_Data/GC_probabilities.csv\")"
   ]
  },
  {
   "cell_type": "code",
   "execution_count": 11,
   "metadata": {},
   "outputs": [
    {
     "data": {
      "text/plain": [
       "Index(['fbref', 'fpl_id', 'first_name', 'second_name', 'Player', 'web_name',\n",
       "       'Age', 'team_id', 'team_name', 'short_name', 'element_type', 'position',\n",
       "       'Seasons_count', 'now_cost', 'tsb', 'MP', 'Starts', 'Min', '90s',\n",
       "       'npxG', 'xAG', 'MP_new', '90s_new', 'npxG_new', 'xAG_new',\n",
       "       'weighted_npxG', 'weighted_xAG'],\n",
       "      dtype='object')"
      ]
     },
     "execution_count": 11,
     "metadata": {},
     "output_type": "execute_result"
    }
   ],
   "source": [
    "fpl_players_new_season.keys()"
   ]
  },
  {
   "cell_type": "code",
   "execution_count": 21,
   "metadata": {},
   "outputs": [
    {
     "name": "stdout",
     "output_type": "stream",
     "text": [
      "    team_id            Squad  1_0_goals  1_1_goals  1_2_goals  1_4_goals  \\\n",
      "0         1          Arsenal     0.5712     0.3199     0.0896     0.0023   \n",
      "1         2      Aston Villa     0.2299     0.3380     0.2484     0.0447   \n",
      "2         3      Bournemouth     0.2417     0.3432     0.2437     0.0409   \n",
      "3         4        Brentford     0.3606     0.3678     0.1876     0.0163   \n",
      "4         5         Brighton     0.2671     0.3526     0.2327     0.0338   \n",
      "5         6          Chelsea     0.1845     0.3118     0.2635     0.0627   \n",
      "6         7   Crystal Palace     0.2299     0.3380     0.2484     0.0447   \n",
      "7         8          Everton     0.2725     0.3543     0.2303     0.0324   \n",
      "8         9           Fulham     0.1686     0.3002     0.2672     0.0705   \n",
      "9        10     Ipswich Town     0.0714     0.1884     0.2487     0.1444   \n",
      "10       11   Leicester City     0.1588     0.2922     0.2688     0.0759   \n",
      "11       12        Liverpool     0.4819     0.3518     0.1284     0.0057   \n",
      "12       13  Manchester City     0.3430     0.3670     0.1964     0.0187   \n",
      "13       14   Manchester Utd     0.2982     0.3608     0.2183     0.0266   \n",
      "14       15    Newcastle Utd     0.4538     0.3585     0.1416     0.0074   \n",
      "15       16  Nott'ham Forest     0.3042     0.3620     0.2154     0.0254   \n",
      "16       17      Southampton     0.0707     0.1872     0.2481     0.1452   \n",
      "17       18        Tottenham     0.3430     0.3670     0.1964     0.0187   \n",
      "18       19         West Ham     0.2209     0.3336     0.2518     0.0479   \n",
      "19       20           Wolves     0.1054     0.2371     0.2668     0.1126   \n",
      "\n",
      "    1_6_goals  1_8_goals  2_0_goals  2_1_goals  ...  37_2_goals  37_4_goals  \\\n",
      "0      0.0000     0.0000     0.3753     0.3678  ...      0.1606      0.0104   \n",
      "1      0.0032     0.0001     0.1979     0.3206  ...      0.2527      0.0486   \n",
      "2      0.0028     0.0001     0.1959     0.3194  ...      0.2625      0.1229   \n",
      "3      0.0006     0.0000     0.0935     0.2215  ...      0.1981      0.0193   \n",
      "4      0.0020     0.0001     0.3104     0.3631  ...      0.2640      0.0636   \n",
      "5      0.0060     0.0003     0.3042     0.3620  ...      0.2225      0.0285   \n",
      "6      0.0032     0.0001     0.3606     0.3678  ...      0.1606      0.0104   \n",
      "7      0.0018     0.0001     0.1496     0.2842  ...      0.1416      0.0074   \n",
      "8      0.0074     0.0004     0.4066     0.3659  ...      0.2668      0.0697   \n",
      "9      0.0336     0.0042     0.0424     0.1341  ...      0.2502      0.0463   \n",
      "10     0.0086     0.0005     0.1809     0.3093  ...      0.1565      0.0096   \n",
      "11     0.0001     0.0000     0.3499     0.3674  ...      0.2374      0.0366   \n",
      "12     0.0007     0.0000     0.6637     0.2721  ...      0.1194      0.0047   \n",
      "13     0.0013     0.0000     0.1604     0.2936  ...      0.2707      0.0911   \n",
      "14     0.0002     0.0000     0.2276     0.3369  ...      0.2706      0.0920   \n",
      "15     0.0012     0.0000     0.3570     0.3677  ...      0.2484      0.0447   \n",
      "16     0.0340     0.0043     0.2393     0.3422  ...      0.2706      0.0875   \n",
      "17     0.0007     0.0000     0.3166     0.3641  ...      0.2649      0.0653   \n",
      "18     0.0036     0.0001     0.2276     0.3369  ...      0.2154      0.0254   \n",
      "19     0.0190     0.0017     0.2039     0.3242  ...      0.2475      0.0440   \n",
      "\n",
      "    37_6_goals  37_8_goals  38_0_goals  38_1_goals  38_2_goals  38_4_goals  \\\n",
      "0       0.0003      0.0000      0.5599      0.3247      0.0942      0.0026   \n",
      "1       0.0037      0.0002      0.1864      0.3131      0.2630      0.0619   \n",
      "2       0.0230      0.0023      0.4148      0.3650      0.1606      0.0104   \n",
      "3       0.0007      0.0000      0.2894      0.3588      0.2225      0.0285   \n",
      "4       0.0061      0.0003      0.1791      0.3080      0.2649      0.0653   \n",
      "5       0.0015      0.0000      0.2753      0.3551      0.2290      0.0318   \n",
      "6       0.0003      0.0000      0.1165      0.2504      0.2692      0.1037   \n",
      "7       0.0002      0.0000      0.1409      0.2761      0.2706      0.0866   \n",
      "8       0.0073      0.0004      0.1481      0.2828      0.2701      0.0821   \n",
      "9       0.0034      0.0001      0.2039      0.3242      0.2578      0.0543   \n",
      "10      0.0002      0.0000      0.1604      0.2936      0.2686      0.0750   \n",
      "11      0.0023      0.0001      0.4274      0.3633      0.1544      0.0093   \n",
      "12      0.0001      0.0000      0.4404      0.3612      0.1481      0.0083   \n",
      "13      0.0123      0.0009      0.2276      0.3369      0.2493      0.0455   \n",
      "14      0.0125      0.0009      0.3198      0.3646      0.2078      0.0225   \n",
      "15      0.0032      0.0001      0.2322      0.3391      0.2475      0.0440   \n",
      "16      0.0113      0.0008      0.1165      0.2504      0.2692      0.1037   \n",
      "17      0.0064      0.0003      0.2698      0.3535      0.2315      0.0331   \n",
      "18      0.0012      0.0000      0.3679      0.3679      0.1839      0.0153   \n",
      "19      0.0031      0.0001      0.2417      0.3432      0.2437      0.0409   \n",
      "\n",
      "    38_6_goals  38_8_goals  \n",
      "0       0.0000      0.0000  \n",
      "1       0.0058      0.0003  \n",
      "2       0.0003      0.0000  \n",
      "3       0.0015      0.0000  \n",
      "4       0.0064      0.0003  \n",
      "5       0.0018      0.0001  \n",
      "6       0.0160      0.0013  \n",
      "7       0.0111      0.0008  \n",
      "8       0.0100      0.0007  \n",
      "9       0.0046      0.0002  \n",
      "10      0.0084      0.0005  \n",
      "11      0.0002      0.0000  \n",
      "12      0.0002      0.0000  \n",
      "13      0.0033      0.0001  \n",
      "14      0.0010      0.0000  \n",
      "15      0.0031      0.0001  \n",
      "16      0.0160      0.0013  \n",
      "17      0.0019      0.0001  \n",
      "18      0.0005      0.0000  \n",
      "19      0.0028      0.0001  \n",
      "\n",
      "[20 rows x 230 columns]\n"
     ]
    }
   ],
   "source": [
    "print(gc_probs.head(20))"
   ]
  },
  {
   "cell_type": "code",
   "execution_count": 18,
   "metadata": {},
   "outputs": [
    {
     "name": "stdout",
     "output_type": "stream",
     "text": [
      "Player expected points from goals successfully saved to C:/Users/erknud3/fpl-optimization/model/data/Prediction_Data/player_xp_goals_gw3.csv\n"
     ]
    }
   ],
   "source": [
    "# Define position multipliers\n",
    "position_multipliers = {1: 10, 2: 6, 3: 5, 4: 4}\n",
    "\n",
    "# Select the relevant columns\n",
    "columns_to_keep = ['fpl_id', 'Player', 'web_name', 'Age', 'team_id', 'team_name', 'element_type', 'position', 'now_cost', 'tsb', 'Min', '90s', 'MP_new', '90s_new', 'weighted_npxG']\n",
    "player_xp_goals = fpl_players_new_season[columns_to_keep].copy()\n",
    "\n",
    "# Iterate over each gameweek and calculate expected points from goals\n",
    "for gw in range(1, 39):\n",
    "    gw_column = str(gw)  # Convert the gameweek number to string for column access\n",
    "    player_xp_goals[gw_column] = player_xp_goals.apply(\n",
    "        lambda row: row['weighted_npxG'] * teams_pred_npxG.loc[teams_pred_npxG['team_id'] == row['team_id'], gw_column].values[0] * position_multipliers[row['element_type']],\n",
    "        axis=1\n",
    "    )\n",
    "\n",
    "# Optional: Round the values to 2 decimal places\n",
    "player_xp_goals = player_xp_goals.round(2)\n",
    "\n",
    "# Save the resulting DataFrame to a CSV file\n",
    "file_path = f\"C:/Users/erknud3/fpl-optimization/model/data/Prediction_Data/player_xp_goals_gw{newest_gw}.csv\"\n",
    "player_xp_goals.to_csv(file_path, index=False)\n",
    "\n",
    "print(f\"Player expected points from goals successfully saved to {file_path}\")\n"
   ]
  },
  {
   "cell_type": "code",
   "execution_count": 19,
   "metadata": {},
   "outputs": [
    {
     "name": "stdout",
     "output_type": "stream",
     "text": [
      "Player expected points from goals successfully saved to C:/Users/erknud3/fpl-optimization/model/data/Prediction_Data/player_xp_assists_gw3.csv\n"
     ]
    }
   ],
   "source": [
    "# Select the relevant columns\n",
    "columns_to_keep = ['fpl_id', 'Player', 'web_name', 'Age', 'team_id', 'team_name', 'element_type', 'position', 'now_cost', 'tsb', 'Min', '90s', 'MP_new', '90s_new', 'weighted_xAG']\n",
    "player_xp_assists = fpl_players_new_season[columns_to_keep].copy()\n",
    "\n",
    "# Iterate over each gameweek and calculate expected points from goals\n",
    "for gw in range(1, 39):\n",
    "    gw_column = str(gw)  # Convert the gameweek number to string for column access\n",
    "    player_xp_assists[gw_column] = player_xp_assists.apply(\n",
    "        lambda row: row['weighted_xAG'] * teams_pred_npxG.loc[teams_pred_npxG['team_id'] == row['team_id'], gw_column].values[0] * 3,\n",
    "        axis=1\n",
    "    )\n",
    "\n",
    "# Optional: Round the values to 2 decimal places\n",
    "player_xp_assists = player_xp_assists.round(2)\n",
    "\n",
    "# Save the resulting DataFrame to a CSV file\n",
    "file_path = f\"C:/Users/erknud3/fpl-optimization/model/data/Prediction_Data/player_xp_assists_gw{newest_gw}.csv\"\n",
    "player_xp_assists.to_csv(file_path, index=False)\n",
    "\n",
    "print(f\"Player expected points from goals successfully saved to {file_path}\")\n"
   ]
  },
  {
   "cell_type": "code",
   "execution_count": 22,
   "metadata": {},
   "outputs": [
    {
     "name": "stdout",
     "output_type": "stream",
     "text": [
      "Player expected points from clean sheets successfully saved to C:/Users/erknud3/fpl-optimization/model/data/Prediction_Data/player_xp_cs_gw3.csv\n"
     ]
    }
   ],
   "source": [
    "# Create a new DataFrame for player expected points from clean sheets\n",
    "columns_to_keep = ['fpl_id', 'Player', 'web_name', 'Age', 'team_name', 'team_id', 'element_type', 'now_cost', 'tsb', 'Min', '90s', 'MP_new', '90s_new']\n",
    "player_xp_cs = fpl_players_new_season[columns_to_keep].copy()\n",
    "\n",
    "# Define the points associated with each goal scenario\n",
    "points_per_goal_scenario = {\n",
    "    0: {1: 4, 2: 4, 3: 1, 4: 0},  # 4 points for GKP and DEF, 1 point for MID, 0 points for FWD\n",
    "    1: 0,                         # 0 points for conceding 1 goal\n",
    "    2: {1: -1, 2: -1, 3: 0, 4: 0}, # -1 points for GKP and DEF, 0 points for MID and FWD\n",
    "    4: {1: -2, 2: -2, 3: 0, 4: 0}, # -2 points for GKP and DEF, 0 points for MID and FWD\n",
    "    6: {1: -3, 2: -3, 3: 0, 4: 0}, # -3 points for GKP and DEF, 0 points for MID and FWD\n",
    "    8: {1: -4, 2: -4, 3: 0, 4: 0}  # -4 points for GKP and DEF, 0 points for MID and FWD\n",
    "}\n",
    "\n",
    "# Iterate over each gameweek and calculate expected points from clean sheets\n",
    "for gw in range(1, 39):\n",
    "    cs_column = f'{gw}_0_goals'\n",
    "    gc_1_column = f'{gw}_1_goals'\n",
    "    gc_2_column = f'{gw}_2_goals'\n",
    "    gc_4_column = f'{gw}_4_goals'\n",
    "    gc_6_column = f'{gw}_6_goals'\n",
    "    gc_8_column = f'{gw}_8_goals'\n",
    "\n",
    "    # Calculate expected points based on probabilities and the points per scenario\n",
    "    player_xp_cs[str(gw)] = player_xp_cs.apply(\n",
    "        lambda row: (\n",
    "            gc_probs.loc[gc_probs['team_id'] == row['team_id'], cs_column].values[0] * points_per_goal_scenario[0][row['element_type']] +\n",
    "            gc_probs.loc[gc_probs['team_id'] == row['team_id'], gc_1_column].values[0] * points_per_goal_scenario[1] +\n",
    "            gc_probs.loc[gc_probs['team_id'] == row['team_id'], gc_2_column].values[0] * points_per_goal_scenario[2][row['element_type']] +\n",
    "            gc_probs.loc[gc_probs['team_id'] == row['team_id'], gc_4_column].values[0] * points_per_goal_scenario[4][row['element_type']] +\n",
    "            gc_probs.loc[gc_probs['team_id'] == row['team_id'], gc_6_column].values[0] * points_per_goal_scenario[6][row['element_type']] +\n",
    "            gc_probs.loc[gc_probs['team_id'] == row['team_id'], gc_8_column].values[0] * points_per_goal_scenario[8][row['element_type']]\n",
    "        ),\n",
    "        axis=1\n",
    "    )\n",
    "\n",
    "# Optional: Round the values to 2 decimal places\n",
    "player_xp_cs = player_xp_cs.round(2)\n",
    "\n",
    "# Save the resulting DataFrame to a CSV file\n",
    "file_path = f\"C:/Users/erknud3/fpl-optimization/model/data/Prediction_Data/player_xp_cs_gw{newest_gw}.csv\"\n",
    "player_xp_cs.to_csv(file_path, index=False)\n",
    "\n",
    "print(f\"Player expected points from clean sheets successfully saved to {file_path}\")\n"
   ]
  },
  {
   "cell_type": "code",
   "execution_count": null,
   "metadata": {},
   "outputs": [],
   "source": []
  }
 ],
 "metadata": {
  "kernelspec": {
   "display_name": "fpl",
   "language": "python",
   "name": "python3"
  },
  "language_info": {
   "codemirror_mode": {
    "name": "ipython",
    "version": 3
   },
   "file_extension": ".py",
   "mimetype": "text/x-python",
   "name": "python",
   "nbconvert_exporter": "python",
   "pygments_lexer": "ipython3",
   "version": "3.12.3"
  }
 },
 "nbformat": 4,
 "nbformat_minor": 2
}
